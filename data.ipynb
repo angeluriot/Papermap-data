{
 "cells": [
  {
   "cell_type": "markdown",
   "metadata": {},
   "source": [
    "### OpenAlex\n",
    "\n",
    "Raw:\n",
    "\n",
    "* JSONL file automatically downloaded\n",
    "\n",
    "Data:\n",
    "\n",
    "* id\n",
    "* issns\n",
    "* title\n",
    "* other titles\n",
    "* publisher id\n",
    "* publisher title\n",
    "* publisher other titles\n",
    "* link\n",
    "\n",
    "Metrics:\n",
    "\n",
    "* Impact Factor (IF)\n",
    "* H-index"
   ]
  },
  {
   "cell_type": "code",
   "execution_count": null,
   "metadata": {},
   "outputs": [],
   "source": [
    "from data.openalex import openalex"
   ]
  },
  {
   "cell_type": "code",
   "execution_count": null,
   "metadata": {},
   "outputs": [],
   "source": [
    "publishers, journals = openalex.get_data()"
   ]
  },
  {
   "cell_type": "code",
   "execution_count": null,
   "metadata": {},
   "outputs": [],
   "source": [
    "# Fix strange characters in The Lancet Gastroenterology & Hepatology\n",
    "journals['S2530914053']['title'] = 'The Lancet Gastroenterology & Hepatology'\n",
    "\n",
    "# Fix Nature Reviews titles\n",
    "for journal in journals.values():\n",
    "\tjournal['title'] = journal['title'].replace('Nature reviews.', 'Nature Reviews')\n",
    "\n",
    "# Fix CA: A Cancer Journal for Clinicians title\n",
    "journals['S126094547']['title'] = 'CA: A Cancer Journal for Clinicians'"
   ]
  },
  {
   "cell_type": "markdown",
   "metadata": {},
   "source": [
    "### Scopus\n",
    "\n",
    "Raw:\n",
    "\n",
    "* XLSX file manually downloaded from: https://www.elsevier.com/products/scopus/content#4-titles-on-scopus\n",
    "\n",
    "\t* Click on: `Download the Source title list`\n",
    "\n",
    "Data:\n",
    "\n",
    "* scopus id\n",
    "* issns\n",
    "* other titles\n",
    "* active\n",
    "* in scopus\n",
    "* last year\n",
    "* publisher other titles\n",
    "* fields"
   ]
  },
  {
   "cell_type": "code",
   "execution_count": null,
   "metadata": {},
   "outputs": [],
   "source": [
    "from data.scopus import scopus\n",
    "from data.merge import *"
   ]
  },
  {
   "cell_type": "code",
   "execution_count": null,
   "metadata": {},
   "outputs": [],
   "source": [
    "data = scopus.get_data(file='ext_list_March_2025.xlsx', sheet='Scopus Sources Mar. 2025')"
   ]
  },
  {
   "cell_type": "code",
   "execution_count": null,
   "metadata": {},
   "outputs": [],
   "source": [
    "exact_matches, pairs = create_pairs(journals, data)"
   ]
  },
  {
   "cell_type": "code",
   "execution_count": null,
   "metadata": {},
   "outputs": [],
   "source": [
    "exact_matches = filter_pairs(publishers, journals, data, exact_matches, pairs)"
   ]
  },
  {
   "cell_type": "code",
   "execution_count": null,
   "metadata": {},
   "outputs": [],
   "source": [
    "publishers, journals = update(publishers, journals, data, exact_matches)"
   ]
  },
  {
   "cell_type": "markdown",
   "metadata": {},
   "source": [
    "### CiteScore (Scopus)\n",
    "\n",
    "Raw:\n",
    "\n",
    "* XLSX files manually downloaded from: https://www.scopus.com/sources.uri\n",
    "\n",
    "\t* Select 1,000 journals\n",
    "\n",
    "\t* Click on: `Export to Excel`\n",
    "\n",
    "\t* Repeat for the next 1,000 journals until all journals are downloaded\n",
    "\n",
    "Data:\n",
    "\n",
    "* other titles\n",
    "* publisher other titles\n",
    "\n",
    "Metrics:\n",
    "\n",
    "* CiteScore\n",
    "* Source Normalized Impact per Paper (SNIP)\n",
    "* SCImago Journal Rank (SJR)"
   ]
  },
  {
   "cell_type": "code",
   "execution_count": null,
   "metadata": {},
   "outputs": [],
   "source": [
    "from data.citescore import citescore"
   ]
  },
  {
   "cell_type": "code",
   "execution_count": null,
   "metadata": {},
   "outputs": [],
   "source": [
    "data = citescore.get_data()"
   ]
  },
  {
   "cell_type": "code",
   "execution_count": null,
   "metadata": {},
   "outputs": [],
   "source": [
    "exact_matches, pairs = create_pairs(journals, data)"
   ]
  },
  {
   "cell_type": "code",
   "execution_count": null,
   "metadata": {},
   "outputs": [],
   "source": [
    "exact_matches = filter_pairs(publishers, journals, data, exact_matches, pairs)"
   ]
  },
  {
   "cell_type": "code",
   "execution_count": null,
   "metadata": {},
   "outputs": [],
   "source": [
    "publishers, journals = update(publishers, journals, data, exact_matches)"
   ]
  },
  {
   "cell_type": "markdown",
   "metadata": {},
   "source": [
    "### SCImago\n",
    "\n",
    "Raw:\n",
    "\n",
    "* CSV files manually downloaded from: https://www.scimagojr.com/journalrank.php\n",
    "\n",
    "\t* Select a year\n",
    "\n",
    "\t* Click on: `Download data`\n",
    "\n",
    "\t* Repeat for all the available years\n",
    "\n",
    "Data:\n",
    "\n",
    "* scopus id\n",
    "* issns\n",
    "* other titles\n",
    "* last year\n",
    "* publisher other titles\n",
    "* fields\n",
    "\n",
    "Metrics:\n",
    "\n",
    "* Impact Factor (IF)\n",
    "* H index\n",
    "* SCImago Journal Rank (SJR)"
   ]
  },
  {
   "cell_type": "code",
   "execution_count": null,
   "metadata": {},
   "outputs": [],
   "source": [
    "from data.scimago import scimago"
   ]
  },
  {
   "cell_type": "code",
   "execution_count": null,
   "metadata": {},
   "outputs": [],
   "source": [
    "data = scimago.get_data()"
   ]
  },
  {
   "cell_type": "code",
   "execution_count": null,
   "metadata": {},
   "outputs": [],
   "source": [
    "exact_matches, pairs = create_pairs(journals, data)"
   ]
  },
  {
   "cell_type": "code",
   "execution_count": null,
   "metadata": {},
   "outputs": [],
   "source": [
    "exact_matches = filter_pairs(publishers, journals, data, exact_matches, pairs)"
   ]
  },
  {
   "cell_type": "code",
   "execution_count": null,
   "metadata": {},
   "outputs": [],
   "source": [
    "publishers, journals = update(publishers, journals, data, exact_matches)"
   ]
  },
  {
   "cell_type": "markdown",
   "metadata": {},
   "source": [
    "### CWTS\n",
    "\n",
    "Raw:\n",
    "\n",
    "* XLSX file manually downloaded from: https://www.journalindicators.com/downloads\n",
    "\n",
    "\t* Click on: `Download results of CWTS Journal Indicators`\n",
    "\n",
    "Data:\n",
    "\n",
    "* issns\n",
    "* other titles\n",
    "* publisher other titles\n",
    "* fields\n",
    "\n",
    "Metrics:\n",
    "\n",
    "* Source Normalized Impact per Paper (SNIP)\n",
    "* Self-Citation Ratio"
   ]
  },
  {
   "cell_type": "code",
   "execution_count": null,
   "metadata": {},
   "outputs": [],
   "source": [
    "from data.cwts import cwts"
   ]
  },
  {
   "cell_type": "code",
   "execution_count": null,
   "metadata": {},
   "outputs": [],
   "source": [
    "data = cwts.get_data(file='CWTS Journal Indicators March 2024.xlsx', sheet='Sources')"
   ]
  },
  {
   "cell_type": "code",
   "execution_count": null,
   "metadata": {},
   "outputs": [],
   "source": [
    "exact_matches, pairs = create_pairs(journals, data)"
   ]
  },
  {
   "cell_type": "code",
   "execution_count": null,
   "metadata": {},
   "outputs": [],
   "source": [
    "exact_matches = filter_pairs(publishers, journals, data, exact_matches, pairs)"
   ]
  },
  {
   "cell_type": "code",
   "execution_count": null,
   "metadata": {},
   "outputs": [],
   "source": [
    "publishers, journals = update(publishers, journals, data, exact_matches)"
   ]
  },
  {
   "cell_type": "markdown",
   "metadata": {},
   "source": [
    "### Eigenfactor\n",
    "\n",
    "Raw:\n",
    "\n",
    "* JSONL file automatically downloaded\n",
    "\n",
    "Data:\n",
    "\n",
    "* issns\n",
    "* other titles\n",
    "\n",
    "Metrics:\n",
    "\n",
    "* Source Normalized Impact per Paper (SNIP)\n",
    "* Self-Citation Ratio"
   ]
  },
  {
   "cell_type": "code",
   "execution_count": null,
   "metadata": {},
   "outputs": [],
   "source": [
    "from data.eigenfactor import eigenfactor"
   ]
  },
  {
   "cell_type": "code",
   "execution_count": null,
   "metadata": {},
   "outputs": [],
   "source": [
    "data = eigenfactor.get_data()"
   ]
  },
  {
   "cell_type": "code",
   "execution_count": null,
   "metadata": {},
   "outputs": [],
   "source": [
    "exact_matches, pairs = create_pairs(journals, data)"
   ]
  },
  {
   "cell_type": "code",
   "execution_count": null,
   "metadata": {},
   "outputs": [],
   "source": [
    "exact_matches = filter_pairs(publishers, journals, data, exact_matches, pairs)"
   ]
  },
  {
   "cell_type": "code",
   "execution_count": null,
   "metadata": {},
   "outputs": [],
   "source": [
    "publishers, journals = update(publishers, journals, data, exact_matches)"
   ]
  },
  {
   "cell_type": "markdown",
   "metadata": {},
   "source": [
    "### SciScore\n",
    "\n",
    "Raw:\n",
    "\n",
    "* JSONL file automatically downloaded\n",
    "\n",
    "Data:\n",
    "\n",
    "* other titles\n",
    "\n",
    "Metrics:\n",
    "\n",
    "* Rigor & Transparency Index (RTI)"
   ]
  },
  {
   "cell_type": "code",
   "execution_count": null,
   "metadata": {},
   "outputs": [],
   "source": [
    "from data.sciscore import sciscore"
   ]
  },
  {
   "cell_type": "code",
   "execution_count": null,
   "metadata": {},
   "outputs": [],
   "source": [
    "data = sciscore.get_data()"
   ]
  },
  {
   "cell_type": "code",
   "execution_count": null,
   "metadata": {},
   "outputs": [],
   "source": [
    "exact_matches, pairs = create_pairs(journals, data)"
   ]
  },
  {
   "cell_type": "code",
   "execution_count": null,
   "metadata": {},
   "outputs": [],
   "source": [
    "exact_matches = filter_pairs(publishers, journals, data, exact_matches, pairs)"
   ]
  },
  {
   "cell_type": "code",
   "execution_count": null,
   "metadata": {},
   "outputs": [],
   "source": [
    "publishers, journals = update(publishers, journals, data, exact_matches)"
   ]
  },
  {
   "cell_type": "markdown",
   "metadata": {},
   "source": [
    "### OSF\n",
    "\n",
    "Raw:\n",
    "\n",
    "* CSV file manually downloaded from: https://osf.io/qatkz\n",
    "\n",
    "\t* Click on: `⁝` → `Download`\n",
    "\n",
    "Data:\n",
    "\n",
    "* issns\n",
    "* other titles\n",
    "* publisher other titles\n",
    "\n",
    "Metrics:\n",
    "\n",
    "* Transparency and Openness Promotion Factor (TOP Factor)"
   ]
  },
  {
   "cell_type": "code",
   "execution_count": null,
   "metadata": {},
   "outputs": [],
   "source": [
    "from data.osf import osf"
   ]
  },
  {
   "cell_type": "code",
   "execution_count": null,
   "metadata": {},
   "outputs": [],
   "source": [
    "data = osf.get_data(file='top-factor.csv')"
   ]
  },
  {
   "cell_type": "code",
   "execution_count": null,
   "metadata": {},
   "outputs": [],
   "source": [
    "exact_matches, pairs = create_pairs(journals, data)"
   ]
  },
  {
   "cell_type": "code",
   "execution_count": null,
   "metadata": {},
   "outputs": [],
   "source": [
    "exact_matches = filter_pairs(publishers, journals, data, exact_matches, pairs)"
   ]
  },
  {
   "cell_type": "code",
   "execution_count": null,
   "metadata": {},
   "outputs": [],
   "source": [
    "publishers, journals = update(publishers, journals, data, exact_matches)"
   ]
  },
  {
   "cell_type": "markdown",
   "metadata": {},
   "source": [
    "### Altmetric\n",
    "\n",
    "Raw:\n",
    "\n",
    "* CSV file manually downloaded from: https://www.altmetric.com/journal-selection-dashboard\n",
    "\n",
    "\t* Fill in the form\n",
    "\n",
    "\t* Access: https://lookerstudio.google.com/u/0/reporting/bf225056-5331-44ac-a9c8-ed75c745dce2/page/4RByC\n",
    "\n",
    "\t* Click on: `⁝` → `Exporter`\n",
    "\n",
    "Data:\n",
    "\n",
    "* other titles\n",
    "\n",
    "Metrics:\n",
    "\n",
    "* News mentions"
   ]
  },
  {
   "cell_type": "code",
   "execution_count": null,
   "metadata": {},
   "outputs": [],
   "source": [
    "from data.altmetric import altmetric"
   ]
  },
  {
   "cell_type": "code",
   "execution_count": null,
   "metadata": {},
   "outputs": [],
   "source": [
    "data = altmetric.get_data(file='Shareable Journal Selection Dashboard Demo (MT)_Journal List and Filtering_Tableau.csv')"
   ]
  },
  {
   "cell_type": "code",
   "execution_count": null,
   "metadata": {},
   "outputs": [],
   "source": [
    "exact_matches, pairs = create_pairs(journals, data)"
   ]
  },
  {
   "cell_type": "code",
   "execution_count": null,
   "metadata": {},
   "outputs": [],
   "source": [
    "exact_matches = filter_pairs(publishers, journals, data, exact_matches, pairs)"
   ]
  },
  {
   "cell_type": "code",
   "execution_count": null,
   "metadata": {},
   "outputs": [],
   "source": [
    "publishers, journals = update(publishers, journals, data, exact_matches)"
   ]
  },
  {
   "cell_type": "markdown",
   "metadata": {},
   "source": [
    "### Fixes"
   ]
  },
  {
   "cell_type": "code",
   "execution_count": null,
   "metadata": {},
   "outputs": [],
   "source": [
    "# Remove strange Impact Factor value for International Journal of Engineering and Technology\n",
    "journals['S2764657047']['metrics']['if'].remove(max(journals['S2764657047']['metrics']['if']))\n",
    "\n",
    "# Only set the Multidisciplinary field for Science\n",
    "journals['S3880285']['fields'] = [1000]"
   ]
  },
  {
   "cell_type": "markdown",
   "metadata": {},
   "source": [
    "### Merge metrics"
   ]
  },
  {
   "cell_type": "code",
   "execution_count": null,
   "metadata": {},
   "outputs": [],
   "source": [
    "from data.utils import *\n",
    "\n",
    "for journal in journals.values():\n",
    "\tfor key, value in journal['metrics'].items():\n",
    "\t\tif key == 'h':\n",
    "\t\t\tjournal['metrics'][key] = round(np.mean(value)) if len(value) > 0 else None\n",
    "\t\telse:\n",
    "\t\t\tjournal['metrics'][key] = float(np.mean(value)) if len(value) > 0 else None\n",
    "\n",
    "\tjournal['metrics'] = remove_none(journal['metrics'])"
   ]
  },
  {
   "cell_type": "markdown",
   "metadata": {},
   "source": [
    "### Save"
   ]
  },
  {
   "cell_type": "code",
   "execution_count": null,
   "metadata": {},
   "outputs": [],
   "source": [
    "import json\n",
    "\n",
    "results = []\n",
    "\n",
    "for journal in journals.values():\n",
    "\tresults.append({\n",
    "\t\t'id': journal['id'],\n",
    "\t\t'title': journal['title'],\n",
    "\t\t'publisher': publishers[journal['publisher']]['title'] if journal['publisher'] is not None else None,\n",
    "\t\t'link': journal['link'],\n",
    "\t\t'fields': journal['fields'],\n",
    "\t\t'metrics': journal['metrics'],\n",
    "\t})\n",
    "\n",
    "results.sort(key=lambda x: x['title'])\n",
    "\n",
    "with open('data/journals.jsonl', 'w', encoding='utf-8') as file:\n",
    "\tfor result in results:\n",
    "\t\tfile.write(json.dumps(result, ensure_ascii=False) + '\\n')"
   ]
  }
 ],
 "metadata": {
  "kernelspec": {
   "display_name": "venv",
   "language": "python",
   "name": "python3"
  },
  "language_info": {
   "codemirror_mode": {
    "name": "ipython",
    "version": 3
   },
   "file_extension": ".py",
   "mimetype": "text/x-python",
   "name": "python",
   "nbconvert_exporter": "python",
   "pygments_lexer": "ipython3",
   "version": "3.13.1"
  }
 },
 "nbformat": 4,
 "nbformat_minor": 2
}
